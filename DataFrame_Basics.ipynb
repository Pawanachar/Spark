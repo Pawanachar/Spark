{
  "nbformat": 4,
  "nbformat_minor": 0,
  "metadata": {
    "anaconda-cloud": {},
    "kernelspec": {
      "display_name": "Python 3",
      "language": "python",
      "name": "python3"
    },
    "language_info": {
      "codemirror_mode": {
        "name": "ipython",
        "version": 3
      },
      "file_extension": ".py",
      "mimetype": "text/x-python",
      "name": "python",
      "nbconvert_exporter": "python",
      "pygments_lexer": "ipython3",
      "version": "3.6.3"
    },
    "nbpresent": {
      "slides": {},
      "themes": {
        "default": "0535adbc-b74f-46cc-9cd6-4eabe2477c8e",
        "theme": {
          "0535adbc-b74f-46cc-9cd6-4eabe2477c8e": {
            "backgrounds": {
              "backgroundColor": {
                "background-color": "backgroundColor",
                "id": "backgroundColor"
              }
            },
            "id": "0535adbc-b74f-46cc-9cd6-4eabe2477c8e",
            "palette": {
              "backgroundColor": {
                "id": "backgroundColor",
                "rgb": [
                  43,
                  43,
                  43
                ]
              },
              "headingColor": {
                "id": "headingColor",
                "rgb": [
                  238,
                  238,
                  238
                ]
              },
              "linkColor": {
                "id": "linkColor",
                "rgb": [
                  19,
                  218,
                  236
                ]
              },
              "mainColor": {
                "id": "mainColor",
                "rgb": [
                  238,
                  238,
                  238
                ]
              }
            },
            "rules": {
              "a": {
                "color": "linkColor"
              },
              "h1": {
                "color": "headingColor",
                "font-family": "Oswald",
                "font-size": 7
              },
              "h2": {
                "color": "headingColor",
                "font-family": "Oswald",
                "font-size": 5
              },
              "h3": {
                "color": "headingColor",
                "font-family": "Oswald",
                "font-size": 3.75
              },
              "h4": {
                "color": "headingColor",
                "font-family": "Oswald",
                "font-size": 3
              },
              "h5": {
                "color": "headingColor",
                "font-family": "Oswald"
              },
              "h6": {
                "color": "headingColor",
                "font-family": "Oswald"
              },
              "h7": {
                "color": "headingColor",
                "font-family": "Oswald"
              },
              "li": {
                "color": "mainColor",
                "font-family": "Lato",
                "font-size": 5
              },
              "p": {
                "color": "mainColor",
                "font-family": "Lato",
                "font-size": 5
              }
            },
            "text-base": {
              "color": "mainColor",
              "font-family": "Lato",
              "font-size": 5
            }
          },
          "cc59980f-cb69-400a-b63a-1fb85ca73c8a": {
            "backgrounds": {
              "dc7afa04-bf90-40b1-82a5-726e3cff5267": {
                "background-color": "31af15d2-7e15-44c5-ab5e-e04b16a89eff",
                "id": "dc7afa04-bf90-40b1-82a5-726e3cff5267"
              }
            },
            "id": "cc59980f-cb69-400a-b63a-1fb85ca73c8a",
            "palette": {
              "19cc588f-0593-49c9-9f4b-e4d7cc113b1c": {
                "id": "19cc588f-0593-49c9-9f4b-e4d7cc113b1c",
                "rgb": [
                  252,
                  252,
                  252
                ]
              },
              "31af15d2-7e15-44c5-ab5e-e04b16a89eff": {
                "id": "31af15d2-7e15-44c5-ab5e-e04b16a89eff",
                "rgb": [
                  68,
                  68,
                  68
                ]
              },
              "50f92c45-a630-455b-aec3-788680ec7410": {
                "id": "50f92c45-a630-455b-aec3-788680ec7410",
                "rgb": [
                  197,
                  226,
                  245
                ]
              },
              "c5cc3653-2ee1-402a-aba2-7caae1da4f6c": {
                "id": "c5cc3653-2ee1-402a-aba2-7caae1da4f6c",
                "rgb": [
                  43,
                  126,
                  184
                ]
              },
              "efa7f048-9acb-414c-8b04-a26811511a21": {
                "id": "efa7f048-9acb-414c-8b04-a26811511a21",
                "rgb": [
                  25.118061674008803,
                  73.60176211453744,
                  107.4819383259912
                ]
              }
            },
            "rules": {
              "a": {
                "color": "19cc588f-0593-49c9-9f4b-e4d7cc113b1c"
              },
              "blockquote": {
                "color": "50f92c45-a630-455b-aec3-788680ec7410",
                "font-size": 3
              },
              "code": {
                "font-family": "Anonymous Pro"
              },
              "h1": {
                "color": "19cc588f-0593-49c9-9f4b-e4d7cc113b1c",
                "font-family": "Merriweather",
                "font-size": 8
              },
              "h2": {
                "color": "19cc588f-0593-49c9-9f4b-e4d7cc113b1c",
                "font-family": "Merriweather",
                "font-size": 6
              },
              "h3": {
                "color": "50f92c45-a630-455b-aec3-788680ec7410",
                "font-family": "Lato",
                "font-size": 5.5
              },
              "h4": {
                "color": "c5cc3653-2ee1-402a-aba2-7caae1da4f6c",
                "font-family": "Lato",
                "font-size": 5
              },
              "h5": {
                "font-family": "Lato"
              },
              "h6": {
                "font-family": "Lato"
              },
              "h7": {
                "font-family": "Lato"
              },
              "li": {
                "color": "50f92c45-a630-455b-aec3-788680ec7410",
                "font-size": 3.25
              },
              "pre": {
                "font-family": "Anonymous Pro",
                "font-size": 4
              }
            },
            "text-base": {
              "color": "19cc588f-0593-49c9-9f4b-e4d7cc113b1c",
              "font-family": "Lato",
              "font-size": 4
            }
          }
        }
      }
    },
    "colab": {
      "name": "DataFrame_Basics.ipynb",
      "provenance": []
    }
  },
  "cells": [
    {
      "cell_type": "markdown",
      "metadata": {
        "id": "GoHZQtEDg207",
        "colab_type": "text"
      },
      "source": [
        "# Spark DataFrame Basics\n",
        "\n",
        "Spark DataFrames are the workhouse and main way of working with Spark and Python post Spark 2.0. DataFrames act as powerful versions of tables, with rows and columns, easily handling large datasets. The shift to DataFrames provides many advantages:\n",
        "* A much simpler syntax\n",
        "* Ability to use SQL directly in the dataframe\n",
        "* Operations are automatically distributed across RDDs\n",
        "    \n",
        "If you've used R or even the pandas library with Python you are probably already familiar with the concept of DataFrames. Spark DataFrame expand on a lot of these concepts, allowing you to transfer that knowledge easily by understanding the simple syntax of Spark DataFrames. Remember that the main advantage to using Spark DataFrames vs those other programs is that Spark can handle data across many RDDs, huge data sets that would never fit on a single computer. That comes at a slight cost of some \"peculiar\" syntax choices, but after this course you will feel very comfortable with all those topics!\n",
        "\n",
        "Let's get started!\n",
        "\n",
        "## Creating a DataFrame\n",
        "\n",
        "First we need to start a SparkSession:"
      ]
    },
    {
      "cell_type": "code",
      "metadata": {
        "id": "ncHLempFg209",
        "colab_type": "code",
        "colab": {}
      },
      "source": [
        "from pyspark.sql import SparkSession"
      ],
      "execution_count": 0,
      "outputs": []
    },
    {
      "cell_type": "markdown",
      "metadata": {
        "id": "bXqefTNwg21D",
        "colab_type": "text"
      },
      "source": [
        "Then start the SparkSession"
      ]
    },
    {
      "cell_type": "code",
      "metadata": {
        "id": "KK8bTTUxg21E",
        "colab_type": "code",
        "colab": {}
      },
      "source": [
        "# May take a little while on a local computer\n",
        "spark = SparkSession.builder.appName(\"Basics\").getOrCreate()"
      ],
      "execution_count": 0,
      "outputs": []
    },
    {
      "cell_type": "code",
      "metadata": {
        "id": "xxclxjiyg21J",
        "colab_type": "code",
        "colab": {},
        "outputId": "13770899-08eb-4f1d-8769-13719b15814d"
      },
      "source": [
        "spark"
      ],
      "execution_count": 0,
      "outputs": [
        {
          "output_type": "execute_result",
          "data": {
            "text/html": [
              "\n",
              "            <div>\n",
              "                <p><b>SparkSession - in-memory</b></p>\n",
              "                \n",
              "        <div>\n",
              "            <p><b>SparkContext</b></p>\n",
              "\n",
              "            <p><a href=\"http://20.0.41.53:4041\">Spark UI</a></p>\n",
              "\n",
              "            <dl>\n",
              "              <dt>Version</dt>\n",
              "                <dd><code>v2.2.1</code></dd>\n",
              "              <dt>Master</dt>\n",
              "                <dd><code>local[*]</code></dd>\n",
              "              <dt>AppName</dt>\n",
              "                <dd><code>Basics</code></dd>\n",
              "            </dl>\n",
              "        </div>\n",
              "        \n",
              "            </div>\n",
              "        "
            ],
            "text/plain": [
              "<pyspark.sql.session.SparkSession at 0x7ffbc58455c0>"
            ]
          },
          "metadata": {
            "tags": []
          },
          "execution_count": 3
        }
      ]
    },
    {
      "cell_type": "markdown",
      "metadata": {
        "collapsed": true,
        "id": "IqldYvUgg21N",
        "colab_type": "text"
      },
      "source": [
        "\n",
        "You will first need to get the data from a file (or connect to a large distributed file like HDFS, we'll talk about this later once we move to larger datasets on AWS EC2)."
      ]
    },
    {
      "cell_type": "code",
      "metadata": {
        "id": "LkHDxLgcg21O",
        "colab_type": "code",
        "colab": {}
      },
      "source": [
        "# We'll discuss how to read other options later.\n",
        "# This dataset is from Spark's examples\n",
        "\n",
        "# Might be a little slow locally\n",
        "df = spark.read.json('people.json')"
      ],
      "execution_count": 0,
      "outputs": []
    },
    {
      "cell_type": "markdown",
      "metadata": {
        "id": "2tr0MJcUg21W",
        "colab_type": "text"
      },
      "source": [
        "#### Showing the data"
      ]
    },
    {
      "cell_type": "code",
      "metadata": {
        "id": "cmVvdLxyg21Y",
        "colab_type": "code",
        "colab": {},
        "outputId": "2054d6d1-fc6e-4712-ed07-2c93342cf2d6"
      },
      "source": [
        "# Note how data is missing!\n",
        "df.show()"
      ],
      "execution_count": 0,
      "outputs": [
        {
          "output_type": "stream",
          "text": [
            "+----+-------+\n",
            "| age|   name|\n",
            "+----+-------+\n",
            "|null|Michael|\n",
            "|  30|   Andy|\n",
            "|  19| Justin|\n",
            "+----+-------+\n",
            "\n"
          ],
          "name": "stdout"
        }
      ]
    },
    {
      "cell_type": "code",
      "metadata": {
        "id": "Q1ouk6d8g21c",
        "colab_type": "code",
        "colab": {},
        "outputId": "eccddce0-38cf-4aea-e6a2-f2255d2d3e42"
      },
      "source": [
        "df.printSchema()"
      ],
      "execution_count": 0,
      "outputs": [
        {
          "output_type": "stream",
          "text": [
            "root\n",
            " |-- age: long (nullable = true)\n",
            " |-- name: string (nullable = true)\n",
            "\n"
          ],
          "name": "stdout"
        }
      ]
    },
    {
      "cell_type": "code",
      "metadata": {
        "id": "osvAUWzQg21h",
        "colab_type": "code",
        "colab": {},
        "outputId": "513cf4df-aab8-41a4-cbe9-b85977deb2dc"
      },
      "source": [
        "df.columns"
      ],
      "execution_count": 0,
      "outputs": [
        {
          "output_type": "execute_result",
          "data": {
            "text/plain": [
              "['age', 'name']"
            ]
          },
          "metadata": {
            "tags": []
          },
          "execution_count": 7
        }
      ]
    },
    {
      "cell_type": "code",
      "metadata": {
        "id": "FGdRP52ag21m",
        "colab_type": "code",
        "colab": {},
        "outputId": "c247370c-069e-4b81-b139-cf8df766e577"
      },
      "source": [
        "df.describe()"
      ],
      "execution_count": 0,
      "outputs": [
        {
          "output_type": "execute_result",
          "data": {
            "text/plain": [
              "DataFrame[summary: string, age: string, name: string]"
            ]
          },
          "metadata": {
            "tags": []
          },
          "execution_count": 8
        }
      ]
    },
    {
      "cell_type": "code",
      "metadata": {
        "id": "ClPylQtYg21r",
        "colab_type": "code",
        "colab": {},
        "outputId": "2ec4f269-1c06-4a5d-a44e-b475ce87fbd2"
      },
      "source": [
        "df.describe().show()"
      ],
      "execution_count": 0,
      "outputs": [
        {
          "output_type": "stream",
          "text": [
            "+-------+------------------+-------+\n",
            "|summary|               age|   name|\n",
            "+-------+------------------+-------+\n",
            "|  count|                 2|      3|\n",
            "|   mean|              24.5|   null|\n",
            "| stddev|7.7781745930520225|   null|\n",
            "|    min|                19|   Andy|\n",
            "|    max|                30|Michael|\n",
            "+-------+------------------+-------+\n",
            "\n"
          ],
          "name": "stdout"
        }
      ]
    },
    {
      "cell_type": "markdown",
      "metadata": {
        "id": "bpt5_RSYg21u",
        "colab_type": "text"
      },
      "source": [
        "Some data types make it easier to infer schema (like tabular formats such as csv which we will show later). \n",
        "\n",
        "However you often have to set the schema yourself if you aren't dealing with a .read method that doesn't have inferSchema() built-in.\n",
        "\n",
        "Spark has all the tools you need for this, it just requires a very specific structure:"
      ]
    },
    {
      "cell_type": "code",
      "metadata": {
        "id": "Sl2m4cUZg21v",
        "colab_type": "code",
        "colab": {}
      },
      "source": [
        "from pyspark.sql.types import StructField,StringType,IntegerType,StructType"
      ],
      "execution_count": 0,
      "outputs": []
    },
    {
      "cell_type": "markdown",
      "metadata": {
        "id": "PganAAupg21z",
        "colab_type": "text"
      },
      "source": [
        "Next we need to create the list of Structure fields\n",
        "    * :param name: string, name of the field.\n",
        "    * :param dataType: :class:`DataType` of the field.\n",
        "    * :param nullable: boolean, whether the field can be null (None) or not."
      ]
    },
    {
      "cell_type": "code",
      "metadata": {
        "id": "rCYVA4XCg210",
        "colab_type": "code",
        "colab": {}
      },
      "source": [
        "data_schema = [StructField(\"age\", IntegerType(), True),StructField(\"name\", StringType(), True)]"
      ],
      "execution_count": 0,
      "outputs": []
    },
    {
      "cell_type": "code",
      "metadata": {
        "id": "_FoCcAoDg214",
        "colab_type": "code",
        "colab": {}
      },
      "source": [
        "final_struc = StructType(fields=data_schema)"
      ],
      "execution_count": 0,
      "outputs": []
    },
    {
      "cell_type": "code",
      "metadata": {
        "id": "NgxucJJhg217",
        "colab_type": "code",
        "colab": {}
      },
      "source": [
        "df = spark.read.json('people.json', schema=final_struc)"
      ],
      "execution_count": 0,
      "outputs": []
    },
    {
      "cell_type": "code",
      "metadata": {
        "id": "XldOIzmIg21_",
        "colab_type": "code",
        "colab": {},
        "outputId": "a9693e48-34ef-4708-c69c-c347409798ae"
      },
      "source": [
        "df.printSchema()"
      ],
      "execution_count": 0,
      "outputs": [
        {
          "output_type": "stream",
          "text": [
            "root\n",
            " |-- age: integer (nullable = true)\n",
            " |-- name: string (nullable = true)\n",
            "\n"
          ],
          "name": "stdout"
        }
      ]
    },
    {
      "cell_type": "markdown",
      "metadata": {
        "id": "03u5d9MLg22C",
        "colab_type": "text"
      },
      "source": [
        "### Grabbing the data"
      ]
    },
    {
      "cell_type": "code",
      "metadata": {
        "id": "YdEYHmRQg22E",
        "colab_type": "code",
        "colab": {},
        "outputId": "3af1335f-7e37-4c73-dc99-777576ce3486"
      },
      "source": [
        "df['age']"
      ],
      "execution_count": 0,
      "outputs": [
        {
          "output_type": "execute_result",
          "data": {
            "text/plain": [
              "Column<b'age'>"
            ]
          },
          "metadata": {
            "tags": []
          },
          "execution_count": 15
        }
      ]
    },
    {
      "cell_type": "code",
      "metadata": {
        "id": "xCocSQSbg22K",
        "colab_type": "code",
        "colab": {},
        "outputId": "67a85751-894e-4378-ecbe-f3ba820b85ee"
      },
      "source": [
        "type(df['age'])"
      ],
      "execution_count": 0,
      "outputs": [
        {
          "output_type": "execute_result",
          "data": {
            "text/plain": [
              "pyspark.sql.column.Column"
            ]
          },
          "metadata": {
            "tags": []
          },
          "execution_count": 16
        }
      ]
    },
    {
      "cell_type": "code",
      "metadata": {
        "id": "vAXd_Or7g22N",
        "colab_type": "code",
        "colab": {},
        "outputId": "c3d9760d-b38d-41c7-9ee9-8e4bb3c58325"
      },
      "source": [
        "df.select('age')"
      ],
      "execution_count": 0,
      "outputs": [
        {
          "output_type": "execute_result",
          "data": {
            "text/plain": [
              "DataFrame[age: int]"
            ]
          },
          "metadata": {
            "tags": []
          },
          "execution_count": 17
        }
      ]
    },
    {
      "cell_type": "code",
      "metadata": {
        "id": "klp68tm-g22R",
        "colab_type": "code",
        "colab": {},
        "outputId": "8f99038c-047d-4d97-8bca-a7ec354e7251"
      },
      "source": [
        "type(df.select('age'))"
      ],
      "execution_count": 0,
      "outputs": [
        {
          "output_type": "execute_result",
          "data": {
            "text/plain": [
              "pyspark.sql.dataframe.DataFrame"
            ]
          },
          "metadata": {
            "tags": []
          },
          "execution_count": 18
        }
      ]
    },
    {
      "cell_type": "code",
      "metadata": {
        "id": "upElwr03g22a",
        "colab_type": "code",
        "colab": {},
        "outputId": "8e8ef3c0-ff80-49a8-c86d-95b4effbd558"
      },
      "source": [
        "df.select('age').show()"
      ],
      "execution_count": 0,
      "outputs": [
        {
          "output_type": "stream",
          "text": [
            "+----+\n",
            "| age|\n",
            "+----+\n",
            "|null|\n",
            "|  30|\n",
            "|  19|\n",
            "+----+\n",
            "\n"
          ],
          "name": "stdout"
        }
      ]
    },
    {
      "cell_type": "code",
      "metadata": {
        "id": "QxdGUCr6g22f",
        "colab_type": "code",
        "colab": {},
        "outputId": "3703b79a-46d2-4398-f8cb-ed548eb772d9"
      },
      "source": [
        "# Returns list of Row objects\n",
        "df.head(2)"
      ],
      "execution_count": 0,
      "outputs": [
        {
          "output_type": "execute_result",
          "data": {
            "text/plain": [
              "[Row(age=None, name='Michael'), Row(age=30, name='Andy')]"
            ]
          },
          "metadata": {
            "tags": []
          },
          "execution_count": 20
        }
      ]
    },
    {
      "cell_type": "markdown",
      "metadata": {
        "id": "Y3hxW2qrg22j",
        "colab_type": "text"
      },
      "source": [
        "Multiple Columns:"
      ]
    },
    {
      "cell_type": "code",
      "metadata": {
        "id": "GW6ZVaKvg22l",
        "colab_type": "code",
        "colab": {},
        "outputId": "14c6dab7-a362-41fe-9511-27eb4ebc7ff1"
      },
      "source": [
        "df.select(['age','name'])"
      ],
      "execution_count": 0,
      "outputs": [
        {
          "output_type": "execute_result",
          "data": {
            "text/plain": [
              "DataFrame[age: int, name: string]"
            ]
          },
          "metadata": {
            "tags": []
          },
          "execution_count": 21
        }
      ]
    },
    {
      "cell_type": "code",
      "metadata": {
        "id": "ftBIbaK2g22p",
        "colab_type": "code",
        "colab": {},
        "outputId": "6091596e-9504-4e02-bcc7-c2675bd07af5"
      },
      "source": [
        "df.select(['age','name']).show()"
      ],
      "execution_count": 0,
      "outputs": [
        {
          "output_type": "stream",
          "text": [
            "+----+-------+\n",
            "| age|   name|\n",
            "+----+-------+\n",
            "|null|Michael|\n",
            "|  30|   Andy|\n",
            "|  19| Justin|\n",
            "+----+-------+\n",
            "\n"
          ],
          "name": "stdout"
        }
      ]
    },
    {
      "cell_type": "markdown",
      "metadata": {
        "id": "ybGz6yMSg22t",
        "colab_type": "text"
      },
      "source": [
        "### Creating new columns"
      ]
    },
    {
      "cell_type": "code",
      "metadata": {
        "id": "7VFeJgTjg22v",
        "colab_type": "code",
        "colab": {},
        "outputId": "ee6762cb-148a-4c69-facd-09d15ee759d0"
      },
      "source": [
        "# Adding a new column with a simple copy\n",
        "df.withColumn('newage',df['age']).show()"
      ],
      "execution_count": 0,
      "outputs": [
        {
          "output_type": "stream",
          "text": [
            "+----+-------+------+\n",
            "| age|   name|newage|\n",
            "+----+-------+------+\n",
            "|null|Michael|  null|\n",
            "|  30|   Andy|    30|\n",
            "|  19| Justin|    19|\n",
            "+----+-------+------+\n",
            "\n"
          ],
          "name": "stdout"
        }
      ]
    },
    {
      "cell_type": "code",
      "metadata": {
        "id": "RArOcRMzg22z",
        "colab_type": "code",
        "colab": {},
        "outputId": "0ec58fe9-4287-40fb-f869-b208a6f4228c"
      },
      "source": [
        "df.show()"
      ],
      "execution_count": 0,
      "outputs": [
        {
          "output_type": "stream",
          "text": [
            "+----+-------+\n",
            "| age|   name|\n",
            "+----+-------+\n",
            "|null|Michael|\n",
            "|  30|   Andy|\n",
            "|  19| Justin|\n",
            "+----+-------+\n",
            "\n"
          ],
          "name": "stdout"
        }
      ]
    },
    {
      "cell_type": "code",
      "metadata": {
        "id": "h7EuqPtgg225",
        "colab_type": "code",
        "colab": {},
        "outputId": "6ff6e91d-aeec-48f2-f5df-e2840c04263d"
      },
      "source": [
        "# Simple Rename\n",
        "df.withColumnRenamed('age','supernewage').show()"
      ],
      "execution_count": 0,
      "outputs": [
        {
          "output_type": "stream",
          "text": [
            "+-----------+-------+\n",
            "|supernewage|   name|\n",
            "+-----------+-------+\n",
            "|       null|Michael|\n",
            "|         30|   Andy|\n",
            "|         19| Justin|\n",
            "+-----------+-------+\n",
            "\n"
          ],
          "name": "stdout"
        }
      ]
    },
    {
      "cell_type": "markdown",
      "metadata": {
        "id": "o31JXufAg229",
        "colab_type": "text"
      },
      "source": [
        "More complicated operations to create new columns"
      ]
    },
    {
      "cell_type": "code",
      "metadata": {
        "id": "P-YCnW_eg22-",
        "colab_type": "code",
        "colab": {},
        "outputId": "9dbaa433-1b1f-4c9a-99c3-9645a3c49002"
      },
      "source": [
        "df.withColumn('doubleage',df['age']*2).show()"
      ],
      "execution_count": 0,
      "outputs": [
        {
          "output_type": "stream",
          "text": [
            "+----+-------+---------+\n",
            "| age|   name|doubleage|\n",
            "+----+-------+---------+\n",
            "|null|Michael|     null|\n",
            "|  30|   Andy|       60|\n",
            "|  19| Justin|       38|\n",
            "+----+-------+---------+\n",
            "\n"
          ],
          "name": "stdout"
        }
      ]
    },
    {
      "cell_type": "code",
      "metadata": {
        "id": "7hZnfRrgg23C",
        "colab_type": "code",
        "colab": {},
        "outputId": "3334429a-8f9e-41af-de96-323880de9156"
      },
      "source": [
        "df.withColumn('add_one_age',df['age']+1).show()"
      ],
      "execution_count": 0,
      "outputs": [
        {
          "output_type": "stream",
          "text": [
            "+----+-------+-----------+\n",
            "| age|   name|add_one_age|\n",
            "+----+-------+-----------+\n",
            "|null|Michael|       null|\n",
            "|  30|   Andy|         31|\n",
            "|  19| Justin|         20|\n",
            "+----+-------+-----------+\n",
            "\n"
          ],
          "name": "stdout"
        }
      ]
    },
    {
      "cell_type": "code",
      "metadata": {
        "id": "E92vcDM_g23G",
        "colab_type": "code",
        "colab": {},
        "outputId": "c9f17b79-cce1-4052-8e66-06aa10ca7173"
      },
      "source": [
        "df.withColumn('half_age',df['age']/2).show()"
      ],
      "execution_count": 0,
      "outputs": [
        {
          "output_type": "stream",
          "text": [
            "+----+-------+--------+\n",
            "| age|   name|half_age|\n",
            "+----+-------+--------+\n",
            "|null|Michael|    null|\n",
            "|  30|   Andy|    15.0|\n",
            "|  19| Justin|     9.5|\n",
            "+----+-------+--------+\n",
            "\n"
          ],
          "name": "stdout"
        }
      ]
    },
    {
      "cell_type": "code",
      "metadata": {
        "id": "mEZy6m8pg23K",
        "colab_type": "code",
        "colab": {},
        "outputId": "6841c396-9a6a-4a60-a501-54e25817c0d6"
      },
      "source": [
        "df.withColumn('half_age',df['age']/2)"
      ],
      "execution_count": 0,
      "outputs": [
        {
          "output_type": "execute_result",
          "data": {
            "text/plain": [
              "DataFrame[age: int, name: string, half_age: double]"
            ]
          },
          "metadata": {
            "tags": []
          },
          "execution_count": 29
        }
      ]
    },
    {
      "cell_type": "markdown",
      "metadata": {
        "id": "M9bRF-zqg23O",
        "colab_type": "text"
      },
      "source": [
        "We'll discuss much more complicated operations later on!"
      ]
    },
    {
      "cell_type": "markdown",
      "metadata": {
        "id": "DLvhAOSXg23P",
        "colab_type": "text"
      },
      "source": [
        "### Using SQL\n",
        "\n",
        "To use SQL queries directly with the dataframe, you will need to register it to a temporary view:"
      ]
    },
    {
      "cell_type": "code",
      "metadata": {
        "id": "NTRLH1mxg23Q",
        "colab_type": "code",
        "colab": {}
      },
      "source": [
        "# Register the DataFrame as a SQL temporary view\n",
        "df.createOrReplaceTempView(\"people\")"
      ],
      "execution_count": 0,
      "outputs": []
    },
    {
      "cell_type": "code",
      "metadata": {
        "id": "pajYeGaKg23T",
        "colab_type": "code",
        "colab": {}
      },
      "source": [
        "sql_results = spark.sql(\"SELECT * FROM people\")"
      ],
      "execution_count": 0,
      "outputs": []
    },
    {
      "cell_type": "code",
      "metadata": {
        "id": "bavUIaHDg23V",
        "colab_type": "code",
        "colab": {},
        "outputId": "46468772-b410-4b30-e137-c4edf181fa0b"
      },
      "source": [
        "sql_results"
      ],
      "execution_count": 0,
      "outputs": [
        {
          "output_type": "execute_result",
          "data": {
            "text/plain": [
              "DataFrame[age: int, name: string]"
            ]
          },
          "metadata": {
            "tags": []
          },
          "execution_count": 32
        }
      ]
    },
    {
      "cell_type": "code",
      "metadata": {
        "id": "8Xm5kEGEg23Y",
        "colab_type": "code",
        "colab": {},
        "outputId": "e6a8c0dd-e792-4157-b54e-b4472dc2f949"
      },
      "source": [
        "sql_results.show()"
      ],
      "execution_count": 0,
      "outputs": [
        {
          "output_type": "stream",
          "text": [
            "+----+-------+\n",
            "| age|   name|\n",
            "+----+-------+\n",
            "|null|Michael|\n",
            "|  30|   Andy|\n",
            "|  19| Justin|\n",
            "+----+-------+\n",
            "\n"
          ],
          "name": "stdout"
        }
      ]
    },
    {
      "cell_type": "code",
      "metadata": {
        "id": "qobTaw6eg23b",
        "colab_type": "code",
        "colab": {},
        "outputId": "d27238e7-310b-4906-e5c5-25790475186a"
      },
      "source": [
        "spark.sql(\"SELECT * FROM people WHERE age=30\").show()"
      ],
      "execution_count": 0,
      "outputs": [
        {
          "output_type": "stream",
          "text": [
            "+---+----+\n",
            "|age|name|\n",
            "+---+----+\n",
            "| 30|Andy|\n",
            "+---+----+\n",
            "\n"
          ],
          "name": "stdout"
        }
      ]
    },
    {
      "cell_type": "code",
      "metadata": {
        "id": "LbcoBRjjg23d",
        "colab_type": "code",
        "colab": {},
        "outputId": "1b627756-f8bc-402c-a418-0f62b8d9f288"
      },
      "source": [
        "# DataFrame approach\n",
        "df.filter(df.age == 30).show()"
      ],
      "execution_count": 0,
      "outputs": [
        {
          "output_type": "stream",
          "text": [
            "+---+----+\n",
            "|age|name|\n",
            "+---+----+\n",
            "| 30|Andy|\n",
            "+---+----+\n",
            "\n"
          ],
          "name": "stdout"
        }
      ]
    },
    {
      "cell_type": "markdown",
      "metadata": {
        "id": "Xq45GQRug23g",
        "colab_type": "text"
      },
      "source": [
        "We won't really be focusing on using the SQL syntax for this course in general, but keep in mind it is always there for you to get you out of bind quickly with your SQL skills!"
      ]
    },
    {
      "cell_type": "markdown",
      "metadata": {
        "id": "geBXg-YHg23h",
        "colab_type": "text"
      },
      "source": [
        "Alright that is all we need to know for now!"
      ]
    },
    {
      "cell_type": "code",
      "metadata": {
        "id": "5JezMbAzg23i",
        "colab_type": "code",
        "colab": {}
      },
      "source": [
        ""
      ],
      "execution_count": 0,
      "outputs": []
    }
  ]
}