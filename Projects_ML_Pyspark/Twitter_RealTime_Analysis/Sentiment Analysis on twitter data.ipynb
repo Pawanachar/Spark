{
 "cells": [
  {
   "cell_type": "markdown",
   "id": "549d8d02",
   "metadata": {},
   "source": [
    "Libraries imported and their purpose\n",
    "1. Tweepy : This library is used for accessing twitter api.\n",
    "2. OAuthHandler : This is used for authentication purpose.\n",
    "3. Matplotlib : This is used for visualization purpose."
   ]
  },
  {
   "cell_type": "code",
   "execution_count": 1,
   "id": "f86038ad",
   "metadata": {},
   "outputs": [],
   "source": [
    "import tweepy\n",
    "from tweepy import OAuthHandler \n",
    "import sys, csv, re, json\n",
    "from textblob import TextBlob\n",
    "import matplotlib.pyplot as plt"
   ]
  },
  {
   "cell_type": "markdown",
   "id": "f0ba52d8",
   "metadata": {},
   "source": [
    "Below are credentials of Twitter developer account which are used for authentication so that Twitter APIs can be used. "
   ]
  },
  {
   "cell_type": "code",
   "execution_count": 2,
   "id": "cb69a8aa",
   "metadata": {},
   "outputs": [],
   "source": [
    "consumerKey = 'y8v7390J9qadOIesXhSa57zZh'\n",
    "consumerSecret = 'IHVGi52g7YQSHhlzFxX0RnQepsT44qGwOlZqbARp5pb9wbfaLr'\n",
    "accessToken = '3255505609-sE3s5MzKSxh0HGimZssvk7PDHvjELCzZbKVnWq6'\n",
    "accessTokenSecret = 'PYxmWaYPrk5wo2Rvs4GlQ5P5bWK3FpAYrbROH2eUiFqDo'"
   ]
  },
  {
   "cell_type": "markdown",
   "id": "fe3c909a",
   "metadata": {},
   "source": [
    "A OAuthHandler instance is created and consumer token and consumer secret token are passed to it.\n",
    "Stored access token and secret access token so that it can be used inside callback function while fetching tweets."
   ]
  },
  {
   "cell_type": "code",
   "execution_count": 3,
   "id": "26b0f560",
   "metadata": {},
   "outputs": [],
   "source": [
    "authentication = tweepy.OAuthHandler(consumerKey, consumerSecret)\n",
    "authentication.set_access_token(accessToken, accessTokenSecret)\n",
    "api = tweepy.API(authentication)"
   ]
  },
  {
   "cell_type": "markdown",
   "id": "dd5e4be4",
   "metadata": {},
   "source": [
    "Taking input:\n",
    "1. termToSearch : Twitter API will fetch tweets of this keyword depending on #Tags and words in the tweets\n",
    "2. NumberOfTweets : API will fetch given number of tweets"
   ]
  },
  {
   "cell_type": "code",
   "execution_count": 4,
   "id": "0e29ec1e",
   "metadata": {},
   "outputs": [
    {
     "name": "stdout",
     "output_type": "stream",
     "text": [
      "Enter Keyword(#TAG) for fetching tweets: FIFA\n",
      "Enter number of tweets to be fetched: 500\n"
     ]
    }
   ],
   "source": [
    "termToSearch = input(\"Enter Keyword(#TAG) for fetching tweets: \")\n",
    "NumberOfTweets = int(input(\"Enter number of tweets to be fetched: \"))"
   ]
  },
  {
   "cell_type": "markdown",
   "id": "19a9a1c9",
   "metadata": {},
   "source": [
    "After calling the API with given input values, it will search and return a status having a JSON of tweets and other details as shown below. "
   ]
  },
  {
   "cell_type": "code",
   "execution_count": 5,
   "id": "87d813cf",
   "metadata": {},
   "outputs": [],
   "source": [
    "tweets = []\n",
    "tweetText = []\n",
    "tweets = tweepy.Cursor(api.search_tweets, q=termToSearch, lang = \"en\").items(NumberOfTweets)"
   ]
  },
  {
   "cell_type": "markdown",
   "id": "e9c7307b",
   "metadata": {},
   "source": [
    "Once the tweets are fetched they are stored in a csv file named 'result.csv'. It will create a file if there is no result.csv in given directory and if there is already present one, it will append the data in the file. "
   ]
  },
  {
   "cell_type": "code",
   "execution_count": 6,
   "id": "0ec869fc",
   "metadata": {},
   "outputs": [],
   "source": [
    "csvFile = open('result.csv', 'a')\n",
    "csvWriter = csv.writer(csvFile)"
   ]
  },
  {
   "cell_type": "markdown",
   "id": "26d5f474",
   "metadata": {},
   "source": [
    "Tweets and retweets are cleaned now using a regular expression. This expression will remove the @metion of other and spaces. The cleaned data is appended in a list tweetText. "
   ]
  },
  {
   "cell_type": "code",
   "execution_count": 7,
   "id": "4d882e1b",
   "metadata": {},
   "outputs": [],
   "source": [
    "for tweet in tweets:\n",
    "            tweetText.append(' '.join(re.sub(\"(@[A-Za-z0-9]+)|([^0-9A-Za-z \\t]) | (\\w +:\\ / \\ / \\S +)\", \" \", tweet.text).split()).encode('utf-8'))       "
   ]
  },
  {
   "cell_type": "code",
   "execution_count": 8,
   "id": "17bd8144",
   "metadata": {},
   "outputs": [
    {
     "data": {
      "text/plain": [
       "b'RT Frame 1 What Ghana produced from FIFA funds Frame 2 What Morocco pr\\xe2\\x80\\xa6'"
      ]
     },
     "execution_count": 8,
     "metadata": {},
     "output_type": "execute_result"
    }
   ],
   "source": [
    "tweetText[0]"
   ]
  },
  {
   "cell_type": "markdown",
   "id": "0d6f9161",
   "metadata": {},
   "source": [
    "After creation of the list. The list is converted into dataframe and stored into a csv file 'result2.csv'"
   ]
  },
  {
   "cell_type": "code",
   "execution_count": 9,
   "id": "49869f58",
   "metadata": {},
   "outputs": [],
   "source": [
    "import pandas as pd\n",
    "df = pd.DataFrame(tweetText)\n",
    "df.to_csv('result2.csv', index=False)"
   ]
  },
  {
   "cell_type": "markdown",
   "id": "39a3b775",
   "metadata": {},
   "source": [
    "Afinn is the lexicons library used for sentiment analysis in python. Below 'result4.csv' is used which contains around 1 million tweets.\n",
    "The data is stored in the dataframe score_df having a column 'tweet_text' and then score of each tweet is calculated using function afinn.score and stored in a new column named 'score'."
   ]
  },
  {
   "cell_type": "code",
   "execution_count": 10,
   "id": "b1fd41b9",
   "metadata": {},
   "outputs": [],
   "source": [
    "from afinn import Afinn\n",
    "afinn = Afinn()\n",
    "score_df = pd.read_csv(r'result4.csv',encoding=' ISO-8859-1',header = None)\n",
    "score_df.columns = ['tweet_text']\n",
    "score_df['score'] = score_df.apply(lambda x :afinn.score(x.tweet_text),axis=1)"
   ]
  },
  {
   "cell_type": "code",
   "execution_count": 11,
   "id": "bc3cbf08",
   "metadata": {},
   "outputs": [
    {
     "data": {
      "text/html": [
       "<div>\n",
       "<style scoped>\n",
       "    .dataframe tbody tr th:only-of-type {\n",
       "        vertical-align: middle;\n",
       "    }\n",
       "\n",
       "    .dataframe tbody tr th {\n",
       "        vertical-align: top;\n",
       "    }\n",
       "\n",
       "    .dataframe thead th {\n",
       "        text-align: right;\n",
       "    }\n",
       "</style>\n",
       "<table border=\"1\" class=\"dataframe\">\n",
       "  <thead>\n",
       "    <tr style=\"text-align: right;\">\n",
       "      <th></th>\n",
       "      <th>tweet_text</th>\n",
       "      <th>score</th>\n",
       "    </tr>\n",
       "  </thead>\n",
       "  <tbody>\n",
       "    <tr>\n",
       "      <th>1048566</th>\n",
       "      <td>Looking forward to a mini-break in Isle of Wig...</td>\n",
       "      <td>0.0</td>\n",
       "    </tr>\n",
       "    <tr>\n",
       "      <th>1048567</th>\n",
       "      <td>GRINGO STAR tonight. Southern garage.  http://...</td>\n",
       "      <td>0.0</td>\n",
       "    </tr>\n",
       "    <tr>\n",
       "      <th>1048568</th>\n",
       "      <td>@DavidBass hee hee...I'll take rain over wind ...</td>\n",
       "      <td>3.0</td>\n",
       "    </tr>\n",
       "    <tr>\n",
       "      <th>1048569</th>\n",
       "      <td>today's message in the church service was deli...</td>\n",
       "      <td>5.0</td>\n",
       "    </tr>\n",
       "    <tr>\n",
       "      <th>1048570</th>\n",
       "      <td>Back home, thought I'd done for the week, but ...</td>\n",
       "      <td>0.0</td>\n",
       "    </tr>\n",
       "    <tr>\n",
       "      <th>1048571</th>\n",
       "      <td>My GrandMa is making Dinenr with my Mum</td>\n",
       "      <td>0.0</td>\n",
       "    </tr>\n",
       "    <tr>\n",
       "      <th>1048572</th>\n",
       "      <td>Mid-morning snack time... A bowl of cheese noo...</td>\n",
       "      <td>0.0</td>\n",
       "    </tr>\n",
       "    <tr>\n",
       "      <th>1048573</th>\n",
       "      <td>@ShaDeLa same here  say it like from the Termi...</td>\n",
       "      <td>4.0</td>\n",
       "    </tr>\n",
       "    <tr>\n",
       "      <th>1048574</th>\n",
       "      <td>@DestinyHope92 im great thaanks  wbuu?</td>\n",
       "      <td>3.0</td>\n",
       "    </tr>\n",
       "    <tr>\n",
       "      <th>1048575</th>\n",
       "      <td>cant wait til her date this weekend</td>\n",
       "      <td>0.0</td>\n",
       "    </tr>\n",
       "  </tbody>\n",
       "</table>\n",
       "</div>"
      ],
      "text/plain": [
       "                                                tweet_text  score\n",
       "1048566  Looking forward to a mini-break in Isle of Wig...    0.0\n",
       "1048567  GRINGO STAR tonight. Southern garage.  http://...    0.0\n",
       "1048568  @DavidBass hee hee...I'll take rain over wind ...    3.0\n",
       "1048569  today's message in the church service was deli...    5.0\n",
       "1048570  Back home, thought I'd done for the week, but ...    0.0\n",
       "1048571           My GrandMa is making Dinenr with my Mum     0.0\n",
       "1048572  Mid-morning snack time... A bowl of cheese noo...    0.0\n",
       "1048573  @ShaDeLa same here  say it like from the Termi...    4.0\n",
       "1048574             @DestinyHope92 im great thaanks  wbuu?    3.0\n",
       "1048575               cant wait til her date this weekend     0.0"
      ]
     },
     "execution_count": 11,
     "metadata": {},
     "output_type": "execute_result"
    }
   ],
   "source": [
    "score_df.tail(10)"
   ]
  },
  {
   "cell_type": "markdown",
   "id": "dd9d4820",
   "metadata": {},
   "source": [
    "The above dataframe is stored in the file 'dataset1.csv'"
   ]
  },
  {
   "cell_type": "code",
   "execution_count": 12,
   "id": "b42b49cf",
   "metadata": {},
   "outputs": [],
   "source": [
    "score_df.to_csv('dataset1.csv',index=False)"
   ]
  },
  {
   "cell_type": "markdown",
   "id": "5526cda6",
   "metadata": {},
   "source": [
    "Libraries: \n",
    "1. findspark : To make pyspark importable as a regular library. \n",
    "2. pyspark : Used as interface for apache spark in python.\n",
    "\n",
    "Function Used:\n",
    "1. SparkSession : An entry point to underlying PySpark functionalities to programmatically create PySpark RDD, dataframe.\n",
    "2. SQLContext : Creates and returns a new session, with seperated SQL configurations, registered functions but sharing the same SparkContext. \n",
    "3. StructType, StructField : Collection of StructFields which defines column names, column data type."
   ]
  },
  {
   "cell_type": "code",
   "execution_count": 13,
   "id": "264de40e",
   "metadata": {},
   "outputs": [],
   "source": [
    "import findspark\n",
    "findspark.init()\n",
    "import pyspark\n",
    "from pyspark.sql import SparkSession, SQLContext\n",
    "from pyspark.sql.types import StructType,StructField,IntegerType,TimestampType,FloatType,StringType,DoubleType"
   ]
  },
  {
   "cell_type": "markdown",
   "id": "b0f278cd",
   "metadata": {},
   "source": [
    "SparkSession is created using spark_session.builder builder pattern. Application name is \"sentiment_analysis\".\n",
    "Host and port are configured using spark.driver.config and spark.driver.port which are 127.0.0.1 and 9999."
   ]
  },
  {
   "cell_type": "code",
   "execution_count": 14,
   "id": "15a496ed",
   "metadata": {},
   "outputs": [],
   "source": [
    "spark_session= pyspark.sql.SparkSession.builder.appName(\"sentiment_analysis\").config(\"spark.driver.host\", \"127.0.0.1\").config(\"spark.driver.port\", \"9999\").getOrCreate()"
   ]
  },
  {
   "cell_type": "code",
   "execution_count": 15,
   "id": "7007d743",
   "metadata": {
    "scrolled": true
   },
   "outputs": [
    {
     "data": {
      "text/html": [
       "\n",
       "            <div>\n",
       "                <p><b>SparkSession - in-memory</b></p>\n",
       "                \n",
       "        <div>\n",
       "            <p><b>SparkContext</b></p>\n",
       "\n",
       "            <p><a href=\"http://127.0.0.1:4040\">Spark UI</a></p>\n",
       "\n",
       "            <dl>\n",
       "              <dt>Version</dt>\n",
       "                <dd><code>v3.3.1</code></dd>\n",
       "              <dt>Master</dt>\n",
       "                <dd><code>local[*]</code></dd>\n",
       "              <dt>AppName</dt>\n",
       "                <dd><code>sentiment_analysis</code></dd>\n",
       "            </dl>\n",
       "        </div>\n",
       "        \n",
       "            </div>\n",
       "        "
      ],
      "text/plain": [
       "<pyspark.sql.session.SparkSession at 0x19a98391420>"
      ]
     },
     "execution_count": 15,
     "metadata": {},
     "output_type": "execute_result"
    }
   ],
   "source": [
    "spark_session"
   ]
  },
  {
   "cell_type": "markdown",
   "id": "851bdc2b",
   "metadata": {},
   "source": [
    "Column name and type are defined."
   ]
  },
  {
   "cell_type": "code",
   "execution_count": 16,
   "id": "d3ca1092",
   "metadata": {},
   "outputs": [],
   "source": [
    "schema=StructType([\n",
    "    StructField('TweetText',StringType(),True),\n",
    "     StructField('Score',IntegerType(),True),\n",
    "])"
   ]
  },
  {
   "cell_type": "code",
   "execution_count": 17,
   "id": "d117fe4e",
   "metadata": {},
   "outputs": [],
   "source": [
    "spark_df = spark_session.read.format('csv').option(\"header\",True).option(\"schema\",schema).load('dataset1.csv')"
   ]
  },
  {
   "cell_type": "code",
   "execution_count": 18,
   "id": "b0888dd7",
   "metadata": {},
   "outputs": [
    {
     "data": {
      "text/plain": [
       "DataFrame[tweet_text: string, score: string]"
      ]
     },
     "execution_count": 18,
     "metadata": {},
     "output_type": "execute_result"
    }
   ],
   "source": [
    "spark_df"
   ]
  },
  {
   "cell_type": "code",
   "execution_count": 19,
   "id": "59b0535d",
   "metadata": {},
   "outputs": [
    {
     "name": "stdout",
     "output_type": "stream",
     "text": [
      "+--------------------+-----+\n",
      "|          tweet_text|score|\n",
      "+--------------------+-----+\n",
      "|@switchfoot http:...| -2.0|\n",
      "|is upset that he ...| -5.0|\n",
      "|@Kenichan I dived...|  2.0|\n",
      "|my whole body fee...| -2.0|\n",
      "|@nationwideclass ...| -4.0|\n",
      "|@Kwesidei not the...|  0.0|\n",
      "|         Need a hug |  2.0|\n",
      "|@LOLTrish hey  lo...|  7.0|\n",
      "|@Tatiana_K nope t...|  0.0|\n",
      "|@twittera que me ...|  0.0|\n",
      "|spring break in p...|  0.0|\n",
      "|I just re-pierced...|  0.0|\n",
      "|@caregiving I cou...| -5.0|\n",
      "|@octolinz16 It it...|  0.0|\n",
      "|@smarrison i woul...| -1.0|\n",
      "|@iamjazzyfizzle I...| -1.0|\n",
      "|Hollis' death sce...| -7.0|\n",
      "|about to file taxes |  0.0|\n",
      "|@LettyA ahh ive a...|  3.0|\n",
      "|@FakerPattyPattz ...|  1.0|\n",
      "+--------------------+-----+\n",
      "only showing top 20 rows\n",
      "\n"
     ]
    }
   ],
   "source": [
    "spark_df.show()"
   ]
  },
  {
   "cell_type": "markdown",
   "id": "83d8f855",
   "metadata": {},
   "source": [
    "Created 10 partitions"
   ]
  },
  {
   "cell_type": "code",
   "execution_count": 20,
   "id": "e283e59b",
   "metadata": {},
   "outputs": [],
   "source": [
    "data_partition = spark_df.repartition(10)"
   ]
  },
  {
   "cell_type": "code",
   "execution_count": 21,
   "id": "34f40cf3",
   "metadata": {},
   "outputs": [
    {
     "data": {
      "text/plain": [
       "10"
      ]
     },
     "execution_count": 21,
     "metadata": {},
     "output_type": "execute_result"
    }
   ],
   "source": [
    "data_partition.rdd.getNumPartitions()"
   ]
  },
  {
   "cell_type": "markdown",
   "id": "22db557c",
   "metadata": {},
   "source": [
    "Folder with name 'partitions' is created."
   ]
  },
  {
   "cell_type": "code",
   "execution_count": 22,
   "id": "f56ef57a",
   "metadata": {},
   "outputs": [],
   "source": [
    "data_partition.write.option(\"header\",True).csv(\"parition\")"
   ]
  },
  {
   "cell_type": "markdown",
   "id": "f2f28767",
   "metadata": {},
   "source": [
    "List of the CSV files created after data partitions. "
   ]
  },
  {
   "cell_type": "code",
   "execution_count": 23,
   "id": "a8d66c70",
   "metadata": {},
   "outputs": [
    {
     "name": "stdout",
     "output_type": "stream",
     "text": [
      "C:\\Users\\hardi\\paritions\n",
      "['C:\\\\Users\\\\hardi\\\\paritions\\\\part-00000-ced1eecf-d97b-4d94-87d1-4f426a391052-c000.csv', 'C:\\\\Users\\\\hardi\\\\paritions\\\\part-00001-ced1eecf-d97b-4d94-87d1-4f426a391052-c000.csv', 'C:\\\\Users\\\\hardi\\\\paritions\\\\part-00002-ced1eecf-d97b-4d94-87d1-4f426a391052-c000.csv', 'C:\\\\Users\\\\hardi\\\\paritions\\\\part-00003-ced1eecf-d97b-4d94-87d1-4f426a391052-c000.csv', 'C:\\\\Users\\\\hardi\\\\paritions\\\\part-00004-ced1eecf-d97b-4d94-87d1-4f426a391052-c000.csv', 'C:\\\\Users\\\\hardi\\\\paritions\\\\part-00005-ced1eecf-d97b-4d94-87d1-4f426a391052-c000.csv', 'C:\\\\Users\\\\hardi\\\\paritions\\\\part-00006-ced1eecf-d97b-4d94-87d1-4f426a391052-c000.csv', 'C:\\\\Users\\\\hardi\\\\paritions\\\\part-00007-ced1eecf-d97b-4d94-87d1-4f426a391052-c000.csv', 'C:\\\\Users\\\\hardi\\\\paritions\\\\part-00008-ced1eecf-d97b-4d94-87d1-4f426a391052-c000.csv', 'C:\\\\Users\\\\hardi\\\\paritions\\\\part-00009-ced1eecf-d97b-4d94-87d1-4f426a391052-c000.csv']\n"
     ]
    }
   ],
   "source": [
    "import glob\n",
    "import os\n",
    "path = \"C:\\\\Users\\\\hardi\\\\paritions\"\n",
    "print(path)\n",
    "csv_files = glob.glob(os.path.join(path,\"*.csv\"))\n",
    "print(csv_files)"
   ]
  },
  {
   "cell_type": "code",
   "execution_count": 24,
   "id": "870e34dc",
   "metadata": {},
   "outputs": [
    {
     "name": "stdout",
     "output_type": "stream",
     "text": [
      "1048576\n"
     ]
    }
   ],
   "source": [
    "print(len(score_df))\n",
    "polarity = 0\n",
    "positive = 0\n",
    "weak_positive = 0\n",
    "strong_positive = 0\n",
    "negative = 0\n",
    "weak_negative = 0\n",
    "strong_negative = 0\n",
    "neutral = 0"
   ]
  },
  {
   "cell_type": "code",
   "execution_count": 25,
   "id": "0ae04f7a",
   "metadata": {},
   "outputs": [],
   "source": [
    "numberOfTweets = len(score_df)"
   ]
  },
  {
   "cell_type": "code",
   "execution_count": 26,
   "id": "8a901fbf",
   "metadata": {},
   "outputs": [],
   "source": [
    " for scores in score_df.tweet_text:\n",
    "           \n",
    "            analysis = TextBlob(scores)\n",
    "            polarity += analysis.sentiment.polarity  # adding up polarities to find the average later\n",
    "\n",
    "            if (analysis.sentiment.polarity == 0):  # adding reaction of how people are reacting to find average later\n",
    "                neutral += 1\n",
    "            elif (analysis.sentiment.polarity > 0 and analysis.sentiment.polarity <= 0.3):\n",
    "                weak_positive += 1\n",
    "            elif (analysis.sentiment.polarity > 0.3 and analysis.sentiment.polarity <= 0.6):\n",
    "                positive += 1\n",
    "            elif (analysis.sentiment.polarity > 0.6 and analysis.sentiment.polarity <= 1):\n",
    "                strong_positive += 1\n",
    "            elif (analysis.sentiment.polarity > -0.3 and analysis.sentiment.polarity <= 0):\n",
    "                weak_negative += 1\n",
    "            elif (analysis.sentiment.polarity > -0.6 and analysis.sentiment.polarity <= -0.3):\n",
    "                negative += 1\n",
    "            elif (analysis.sentiment.polarity > -1 and analysis.sentiment.polarity <= -0.6):\n",
    "                strong_negative += 1"
   ]
  },
  {
   "cell_type": "code",
   "execution_count": 27,
   "id": "3778c078",
   "metadata": {},
   "outputs": [
    {
     "name": "stdout",
     "output_type": "stream",
     "text": [
      "378389\n",
      "1048576\n"
     ]
    }
   ],
   "source": [
    "print(neutral)\n",
    "print(numberOfTweets)\n"
   ]
  },
  {
   "cell_type": "code",
   "execution_count": 28,
   "id": "2a0552af",
   "metadata": {},
   "outputs": [],
   "source": [
    "def percentageCalculation(typeOfTweet, TotalTweet):\n",
    "        perc = 100 * float(typeOfTweet) / float(TotalTweet)\n",
    "        return format(perc, '.2f')"
   ]
  },
  {
   "cell_type": "code",
   "execution_count": 29,
   "id": "a4d214d0",
   "metadata": {},
   "outputs": [],
   "source": [
    "positive_tweet = percentageCalculation(positive, numberOfTweets)\n",
    "weak_positive_tweet = percentageCalculation(weak_positive, numberOfTweets)\n",
    "strong_positive_tweet = percentageCalculation(strong_positive, numberOfTweets)\n",
    "negative_tweet = percentageCalculation(negative, numberOfTweets)\n",
    "weak_negative_tweet = percentageCalculation(weak_negative,numberOfTweets)\n",
    "strong_negative_tweet = percentageCalculation(strong_negative, numberOfTweets)\n",
    "neutrall_tweet = percentageCalculation(neutral, numberOfTweets)\n",
    "polarity_tweet = polarity / numberOfTweets"
   ]
  },
  {
   "cell_type": "code",
   "execution_count": 30,
   "id": "b0310a5f",
   "metadata": {},
   "outputs": [
    {
     "name": "stdout",
     "output_type": "stream",
     "text": [
      "Sentiment data analysis on FIFA\n",
      "-----------------------------------\n",
      "Positive tweets by 11.96\n",
      "Weak Positivetweets by 18.69\n",
      "Strong Positive tweets by 6.70\n",
      "Negative tweets by 8.87\n",
      "Weak Negative tweets by 12.79\n",
      "Strong Negative tweets by 4.01\n",
      "Neutral tweets by 36.09\n"
     ]
    }
   ],
   "source": [
    "print(\"Sentiment data analysis on \" + termToSearch)\n",
    "\n",
    "if (polarity == 0):\n",
    "    print(\"Neutral\")\n",
    "elif (polarity > 0 and polarity <= 0.3):\n",
    "    print(\"Weak Positive\")\n",
    "elif (polarity > 0.3 and polarity <= 0.6):\n",
    "    print(\"Positive\")\n",
    "elif (polarity > 0.6 and polarity <= 1):\n",
    "    print(\"Strong Positive\")\n",
    "elif (polarity > -0.3 and polarity <= 0):\n",
    "    print(\"Weak Negative\")\n",
    "elif (polarity > -0.6 and polarity <= -0.3):\n",
    "    print(\"Negative\")\n",
    "elif (polarity > -1 and polarity <= -0.6):\n",
    "    print(\"Strong Negative\")\n",
    "\n",
    "print(\"-----------------------------------\")\n",
    "print(\"Positive tweets by \"+ str(positive_tweet))\n",
    "print(\"Weak Positivetweets by \"+str(weak_positive_tweet) )\n",
    "print(\"Strong Positive tweets by \"+str(strong_positive_tweet) )\n",
    "print(\"Negative tweets by \"+str(negative_tweet))\n",
    "print(\"Weak Negative tweets by \"+str(weak_negative_tweet))\n",
    "print(\"Strong Negative tweets by \"+str(strong_negative_tweet))\n",
    "print(\"Neutral tweets by \"+str(neutrall_tweet))"
   ]
  },
  {
   "cell_type": "code",
   "execution_count": 31,
   "id": "c9f5775a",
   "metadata": {},
   "outputs": [],
   "source": [
    "def plotPieChart( positive, weak_positive, strong_positive, negative, weak_negative, strong_negative, neutral, termToSearch, numberOfTweets):\n",
    "        labels = ['Positive [' + str(positive_tweet) + '%]', 'Weakly Positive [' + str(weak_positive_tweet) + '%]','Strongly Positive [' + str(strong_positive_tweet) + '%]', 'Neutral [' + str(neutrall_tweet) + '%]',\n",
    "                  'Negative [' + str(negative_tweet) + '%]', 'Weakly Negative [' + str(weak_negative_tweet) + '%]', 'Strongly Negative [' + str(strong_negative_tweet) + '%]']\n",
    "        sizes = [positive_tweet, weak_positive_tweet, strong_positive_tweet, neutrall_tweet, negative_tweet, weak_negative_tweet, strong_negative_tweet]\n",
    "        colors = ['yellowgreen','lightgreen','darkgreen', 'gold', 'red','lightsalmon','darkred']\n",
    "        patches, texts = plt.pie(sizes, colors=colors, startangle=90)\n",
    "        plt.legend(patches, labels, loc=\"best\")\n",
    "        plt.title('Sentiment Data Analysis on ' + termToSearch + ' by analyzing tweets.')\n",
    "        plt.axis('equal')\n",
    "        plt.tight_layout()\n",
    "        plt.show()"
   ]
  },
  {
   "cell_type": "code",
   "execution_count": 34,
   "id": "ec8b05d7",
   "metadata": {},
   "outputs": [
    {
     "data": {
      "image/png": "[encoded data removed]",
      "text/plain": [
       "<Figure size 640x480 with 1 Axes>"
      ]
     },
     "metadata": {},
     "output_type": "display_data"
    }
   ],
   "source": [
    "plotPieChart(positive_tweet, weak_positive_tweet, strong_positive_tweet, negative_tweet, weak_negative_tweet, strong_negative_tweet, neutrall_tweet, termToSearch, NumberOfTweets)"
   ]
  }
 ],
 "metadata": {
  "kernelspec": {
   "display_name": "Python 3 (ipykernel)",
   "language": "python",
   "name": "python3"
  },
  "language_info": {
   "codemirror_mode": {
    "name": "ipython",
    "version": 3
   },
   "file_extension": ".py",
   "mimetype": "text/x-python",
   "name": "python",
   "nbconvert_exporter": "python",
   "pygments_lexer": "ipython3",
   "version": "3.10.9"
  }
 },
 "nbformat": 4,
 "nbformat_minor": 5
}
